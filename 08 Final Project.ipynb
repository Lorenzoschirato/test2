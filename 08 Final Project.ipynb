{
 "cells": [
  {
   "cell_type": "markdown",
   "id": "0048b9f0-f8b9-4c93-8724-66a865241550",
   "metadata": {
    "jp-MarkdownHeadingCollapsed": true,
    "tags": []
   },
   "source": [
    "## (Lab 1) Importing  and cleaning data"
   ]
  },
  {
   "cell_type": "markdown",
   "id": "593491d8-1869-443a-85bb-23083650b2eb",
   "metadata": {},
   "source": [
    "&nbsp;  \n",
    "&nbsp;\n",
    "**Import packages**"
   ]
  },
  {
   "cell_type": "code",
   "execution_count": null,
   "id": "6f7b0d59-e374-4654-ad8d-501d36076fe4",
   "metadata": {},
   "outputs": [],
   "source": [
    "import requests\n",
    "import pandas as pd\n",
    "import numpy as np\n",
    "import datetime\n",
    "pd.set_option('display.max_columns', None)\n",
    "pd.set_option('display.max_colwidth', None)"
   ]
  },
  {
   "cell_type": "markdown",
   "id": "53344580-4939-415b-a3fc-8dfcfaea0658",
   "metadata": {},
   "source": [
    "&nbsp;  \n",
    "&nbsp;\n",
    "**Define helper functions**"
   ]
  },
  {
   "cell_type": "code",
   "execution_count": null,
   "id": "0219a4e8-38f4-4303-80fd-4bb9217eabb4",
   "metadata": {},
   "outputs": [],
   "source": [
    "def getBoosterVersion(data):\n",
    "    for x in data['rocket']:\n",
    "       if x:\n",
    "        response = requests.get(\"https://api.spacexdata.com/v4/rockets/\"+str(x)).json()\n",
    "        BoosterVersion.append(response['name'])\n",
    "        \n",
    "def getPayloadData(data):\n",
    "    for load in data['payloads']:\n",
    "       if load:\n",
    "        response = requests.get(\"https://api.spacexdata.com/v4/payloads/\"+load).json()\n",
    "        PayloadMass.append(response['mass_kg'])\n",
    "        Orbit.append(response['orbit'])\n",
    "        \n",
    "def getLaunchSite(data):\n",
    "    for x in data['launchpad']:\n",
    "       if x:\n",
    "         response = requests.get(\"https://api.spacexdata.com/v4/launchpads/\"+str(x)).json()\n",
    "         Longitude.append(response['longitude'])\n",
    "         Latitude.append(response['latitude'])\n",
    "         LaunchSite.append(response['name'])\n",
    "\n",
    "def getCoreData(data):\n",
    "    for core in data['cores']:\n",
    "            if core['core'] != None:\n",
    "                response = requests.get(\"https://api.spacexdata.com/v4/cores/\"+core['core']).json()\n",
    "                Block.append(response['block'])\n",
    "                ReusedCount.append(response['reuse_count'])\n",
    "                Serial.append(response['serial'])\n",
    "            else:\n",
    "                Block.append(None)\n",
    "                ReusedCount.append(None)\n",
    "                Serial.append(None)\n",
    "            Outcome.append(str(core['landing_success'])+' '+str(core['landing_type']))\n",
    "            Flights.append(core['flight'])\n",
    "            GridFins.append(core['gridfins'])\n",
    "            Reused.append(core['reused'])\n",
    "            Legs.append(core['legs'])\n",
    "            LandingPad.append(core['landpad'])"
   ]
  },
  {
   "cell_type": "markdown",
   "id": "ed688787-b44e-4190-9767-8618ed43cbf1",
   "metadata": {},
   "source": [
    "&nbsp;  \n",
    "&nbsp;\n",
    "**Collect and clean data**"
   ]
  },
  {
   "cell_type": "code",
   "execution_count": null,
   "id": "04ba8bff-d166-432e-ac0a-a7bca33d00c1",
   "metadata": {},
   "outputs": [],
   "source": [
    "# Get data from static URL\n",
    "static_json_url='https://cf-courses-data.s3.us.cloud-object-storage.appdomain.cloud/IBM-DS0321EN-SkillsNetwork/datasets/API_call_spacex_api.json'\n",
    "response = requests.get(static_json_url)\n",
    "response.status_code\n",
    "data = pd.json_normalize(response.json())\n",
    "data.head()\n",
    "\n",
    "# Get data from Space X API\n",
    "spacex_url=\"https://api.spacexdata.com/v4/launches/past\"\n",
    "response = requests.get(spacex_url)\n",
    "#print(response.content)"
   ]
  },
  {
   "cell_type": "code",
   "execution_count": null,
   "id": "3e79530c-dd54-47a5-bf79-42ddd6d20d24",
   "metadata": {},
   "outputs": [],
   "source": [
    "# Clean the data a bit\n",
    "data = data[['rocket', 'payloads', 'launchpad', 'cores', 'flight_number', 'date_utc']]\n",
    "data = data[data['cores'].map(len)==1]\n",
    "data = data[data['payloads'].map(len)==1]\n",
    "data['cores'] = data['cores'].map(lambda x : x[0])\n",
    "data['payloads'] = data['payloads'].map(lambda x : x[0])\n",
    "data['date'] = pd.to_datetime(data['date_utc']).dt.date\n",
    "data = data[data['date'] <= datetime.date(2020, 11, 13)]"
   ]
  },
  {
   "cell_type": "code",
   "execution_count": null,
   "id": "ce57ddc1-f761-4d9d-b91d-71fe081e4209",
   "metadata": {},
   "outputs": [],
   "source": [
    "# Recover additional data from other sources (SpaceX API)\n",
    "\n",
    "# Global variables definition\n",
    "BoosterVersion = []\n",
    "PayloadMass = []\n",
    "Orbit = []\n",
    "LaunchSite = []\n",
    "Outcome = []\n",
    "Flights = []\n",
    "GridFins = []\n",
    "Reused = []\n",
    "Legs = []\n",
    "LandingPad = []\n",
    "Block = []\n",
    "ReusedCount = []\n",
    "Serial = []\n",
    "Longitude = []\n",
    "Latitude = []\n",
    "\n",
    "# Recover data\n",
    "getBoosterVersion(data)\n",
    "getLaunchSite(data)\n",
    "getPayloadData(data)\n",
    "getCoreData(data)\n",
    "\n",
    "# Create the final DS with collected data\n",
    "launch_dict = {'FlightNumber': list(data['flight_number']),\n",
    "               'Date': list(data['date']),\n",
    "               'BoosterVersion':BoosterVersion,\n",
    "               'PayloadMass':PayloadMass,\n",
    "               'Orbit':Orbit,\n",
    "               'LaunchSite':LaunchSite, \n",
    "               'Outcome':Outcome,\n",
    "               'Flights':Flights,\n",
    "               'GridFins':GridFins,\n",
    "               'Reused':Reused,\n",
    "               'Legs':Legs,\n",
    "               'LandingPad':LandingPad,\n",
    "               'Block':Block,\n",
    "               'ReusedCount':ReusedCount,\n",
    "               'Serial':Serial,\n",
    "               'Longitude': Longitude,\n",
    "               'Latitude': Latitude}\n",
    "\n",
    "# Create DF\n",
    "launch_df = pd.DataFrame.from_dict(launch_dict)\n",
    "launch_df.head()"
   ]
  },
  {
   "cell_type": "code",
   "execution_count": null,
   "id": "347e21ad-4c49-4f42-8277-db0111fe5fd2",
   "metadata": {},
   "outputs": [],
   "source": [
    "# Filter Falcon 9 Data\n",
    "data_falcon9 = launch_df[launch_df['BoosterVersion'] == 'Falcon 9']\n",
    "data_falcon9.loc[:,'FlightNumber'] = list(range(1, data_falcon9.shape[0]+1))\n",
    "data_falcon9.head()\n",
    "data_falcon9.head().isnull().sum()"
   ]
  },
  {
   "cell_type": "code",
   "execution_count": null,
   "id": "9b18cff5-ee3e-4b0a-91ff-f1d8a5b7b6dc",
   "metadata": {},
   "outputs": [],
   "source": [
    "# Fixing missing values\n",
    "PayloadMass_mean = data_falcon9.PayloadMass.mean()\n",
    "data_falcon9['PayloadMass'] = data_falcon9['PayloadMass'].replace(np.nan, PayloadMass_mean)\n",
    "data_falcon9.isnull().sum()"
   ]
  },
  {
   "cell_type": "markdown",
   "id": "ff55b71f-1bb5-4f98-954e-4656d09f58c6",
   "metadata": {},
   "source": [
    "&nbsp;  \n",
    "&nbsp;\n",
    "**Additional data collection with web scraping**"
   ]
  },
  {
   "cell_type": "code",
   "execution_count": null,
   "id": "bcc6265a-0bc9-4e6a-83b7-4374f7a420dd",
   "metadata": {},
   "outputs": [],
   "source": [
    "# setup\n",
    "#!pip3 install beautifulsoup4\n",
    "#!pip3 install requests\n",
    "import sys\n",
    "import requests\n",
    "from bs4 import BeautifulSoup\n",
    "import re\n",
    "import unicodedata\n",
    "import pandas as pd"
   ]
  },
  {
   "cell_type": "code",
   "execution_count": null,
   "id": "c01717e7-f4da-4726-ab86-eed06ac9c3d7",
   "metadata": {},
   "outputs": [],
   "source": [
    "# define helper functions\n",
    "def date_time(table_cells):\n",
    "    \"\"\"\n",
    "    This function returns the data and time from the HTML  table cell\n",
    "    Input: the  element of a table data cell extracts extra row\n",
    "    \"\"\"\n",
    "    return [data_time.strip() for data_time in list(table_cells.strings)][0:2]\n",
    "\n",
    "def booster_version(table_cells):\n",
    "    \"\"\"\n",
    "    This function returns the booster version from the HTML  table cell \n",
    "    Input: the  element of a table data cell extracts extra row\n",
    "    \"\"\"\n",
    "    out=''.join([booster_version for i,booster_version in enumerate( table_cells.strings) if i%2==0][0:-1])\n",
    "    return out\n",
    "\n",
    "def landing_status(table_cells):\n",
    "    \"\"\"\n",
    "    This function returns the landing status from the HTML table cell \n",
    "    Input: the  element of a table data cell extracts extra row\n",
    "    \"\"\"\n",
    "    out=[i for i in table_cells.strings][0]\n",
    "    return out\n",
    "\n",
    "\n",
    "def get_mass(table_cells):\n",
    "    mass=unicodedata.normalize(\"NFKD\", table_cells.text).strip()\n",
    "    if mass:\n",
    "        mass.find(\"kg\")\n",
    "        new_mass=mass[0:mass.find(\"kg\")+2]\n",
    "    else:\n",
    "        new_mass=0\n",
    "    return new_mass\n",
    "\n",
    "\n",
    "def extract_column_from_header(row):\n",
    "    \"\"\"\n",
    "    This function returns the landing status from the HTML table cell \n",
    "    Input: the  element of a table data cell extracts extra row\n",
    "    \"\"\"\n",
    "    if (row.br):\n",
    "        row.br.extract()\n",
    "    if row.a:\n",
    "        row.a.extract()\n",
    "    if row.sup:\n",
    "        row.sup.extract()\n",
    "        \n",
    "    colunm_name = ' '.join(row.contents)\n",
    "    \n",
    "    # Filter the digit and empty names\n",
    "    if not(colunm_name.strip().isdigit()):\n",
    "        colunm_name = colunm_name.strip()\n",
    "        return colunm_name "
   ]
  },
  {
   "cell_type": "code",
   "execution_count": null,
   "id": "e591d222-2d3f-495c-a2f6-d7133afdc5f1",
   "metadata": {},
   "outputs": [],
   "source": [
    "# Fix libraries\n",
    "#!pip install bs4\n",
    "#!pip install html5lib\n",
    "#!pip install lxml\n",
    "import bs4\n",
    "import html5lib\n",
    "import lxml"
   ]
  },
  {
   "cell_type": "code",
   "execution_count": null,
   "id": "5d2d9434-d122-438b-b182-b8c9db460101",
   "metadata": {},
   "outputs": [],
   "source": [
    "# Request data\n",
    "#!pip3 install html5lib\n",
    "#import html5lib\n",
    "static_url = \"https://en.wikipedia.org/w/index.php?title=List_of_Falcon_9_and_Falcon_Heavy_launches&oldid=1027686922\"\n",
    "page=requests.get(static_url)\n",
    "soup = BeautifulSoup(page.text, 'html.parser')\n",
    "soup.title\n",
    "html_tables=soup.find_all('table')"
   ]
  },
  {
   "cell_type": "code",
   "execution_count": null,
   "id": "2d7c3f6b-999c-4c5e-b56d-2b878e18c902",
   "metadata": {},
   "outputs": [],
   "source": [
    "# Extract and clean tables\n",
    "html_tables = soup.find_all('table')\n",
    "first_launch_table = html_tables[2]\n",
    "\n",
    "column_names = []\n",
    "# Apply find_all() function with `th` element on first_launch_table\n",
    "# Iterate each th element and apply the provided extract_column_from_header() to get a column name\n",
    "# Append the Non-empty column name (`if name is not None and len(name) > 0`) into a list called column_names\n",
    "for i in first_launch_table.find_all('th'):\n",
    "    if extract_column_from_header(i)!=None:\n",
    "        if len(extract_column_from_header(i))>0:\n",
    "            column_names.append(extract_column_from_header(i))\n",
    "column_names\n",
    "\n",
    "launch_dict= dict.fromkeys(column_names)\n",
    "\n",
    "# Remove an irrelvant column\n",
    "del launch_dict['Date and time ( )']\n",
    "\n",
    "# Let's initial the launch_dict with each value to be an empty list\n",
    "launch_dict['Flight No.'] = []\n",
    "launch_dict['Launch site'] = []\n",
    "launch_dict['Payload'] = []\n",
    "launch_dict['Payload mass'] = []\n",
    "launch_dict['Orbit'] = []\n",
    "launch_dict['Customer'] = []\n",
    "launch_dict['Launch outcome'] = []\n",
    "launch_dict['Version Booster']=[]\n",
    "launch_dict['Booster landing']=[]\n",
    "launch_dict['Date']=[]\n",
    "launch_dict['Time']=[]\n",
    "\n",
    "extracted_row = 0\n",
    "#Extract each table \n",
    "for table_number,table in enumerate(soup.find_all('table',\"wikitable plainrowheaders collapsible\")):\n",
    "   # get table row \n",
    "    for rows in table.find_all(\"tr\"):\n",
    "        #check to see if first table heading is as number corresponding to launch a number \n",
    "        if rows.th:\n",
    "            if rows.th.string:\n",
    "                flight_number=rows.th.string.strip()\n",
    "                flag=flight_number.isdigit()\n",
    "        else:\n",
    "            flag=False\n",
    "        #get table element \n",
    "        row=rows.find_all('td')\n",
    "        #if it is number save cells in a dictonary \n",
    "        if flag:\n",
    "            extracted_row += 1\n",
    "            # Flight Number value\n",
    "            # TODO: Append the flight_number into launch_dict with key `Flight No.`\n",
    "            launch_dict['Flight No.'].append(flight_number)\n",
    "            print(flight_number)\n",
    "            datatimelist=date_time(row[0])\n",
    "            \n",
    "            # Date value\n",
    "            # TODO: Append the date into launch_dict with key `Date`\n",
    "            date = datatimelist[0].strip(',')\n",
    "            launch_dict['Date'].append(date)\n",
    "            print(date)\n",
    "            \n",
    "            # Time value\n",
    "            # TODO: Append the time into launch_dict with key `Time`\n",
    "            time = datatimelist[1]\n",
    "            launch_dict['Time'].append(time)\n",
    "            print(time)\n",
    "              \n",
    "            # Booster version\n",
    "            # TODO: Append the bv into launch_dict with key `Version Booster`\n",
    "            bv=booster_version(row[1])\n",
    "            if not(bv):\n",
    "                bv=row[1].a.string\n",
    "            launch_dict['Version Booster'].append(bv)\n",
    "            print(bv)\n",
    "            \n",
    "            # Launch Site\n",
    "            # TODO: Append the bv into launch_dict with key `Launch Site`\n",
    "            launch_site = row[2].a.string\n",
    "            launch_dict['Launch site'].append(launch_site)\n",
    "            print(launch_site)\n",
    "            \n",
    "            # Payload\n",
    "            # TODO: Append the payload into launch_dict with key `Payload`\n",
    "            payload = row[3].a.string\n",
    "            launch_dict['Payload'].append(payload)\n",
    "            print(payload)\n",
    "            \n",
    "            # Payload Mass\n",
    "            # TODO: Append the payload_mass into launch_dict with key `Payload mass`\n",
    "            payload_mass = get_mass(row[4])\n",
    "            launch_dict['Payload mass'].append(payload_mass)\n",
    "            print(payload_mass)\n",
    "            \n",
    "            # Orbit\n",
    "            # TODO: Append the orbit into launch_dict with key `Orbit`\n",
    "            orbit = row[5].a.string\n",
    "            launch_dict['Orbit'].append(orbit)\n",
    "            print(orbit)\n",
    "            \n",
    "            # Customer\n",
    "            # TODO: Append the customer into launch_dict with key `Customer`\n",
    "            if row[6].a!=None:\n",
    "                customer = row[6].a.string\n",
    "            else: \n",
    "                customer='None'\n",
    "            launch_dict['Customer'].append(customer)\n",
    "            print(customer)\n",
    "            \n",
    "            # Launch outcome\n",
    "            # TODO: Append the launch_outcome into launch_dict with key `Launch outcome`\n",
    "            launch_outcome = list(row[7].strings)[0]\n",
    "            launch_dict['Launch outcome'].append(launch_outcome)\n",
    "            print(launch_outcome)\n",
    "            \n",
    "            # Booster landing\n",
    "            # TODO: Append the launch_outcome into launch_dict with key `Booster landing`\n",
    "            booster_landing = landing_status(row[8])\n",
    "            launch_dict['Booster landing'].append(booster_landing)\n",
    "            print(booster_landing)\n",
    "            \n",
    "            print(\"******\")\n",
    "            "
   ]
  },
  {
   "cell_type": "code",
   "execution_count": null,
   "id": "9372cd86-f0b0-41b5-a148-80baeb2264d2",
   "metadata": {},
   "outputs": [],
   "source": [
    "df=pd.DataFrame(launch_dict)\n",
    "df.to_csv('spacex_web_scraped.csv', index=False)\n",
    "df.head()"
   ]
  },
  {
   "cell_type": "code",
   "execution_count": null,
   "id": "a2aafe7e-0597-424e-bbcf-94f166420733",
   "metadata": {},
   "outputs": [],
   "source": [
    "len(data)"
   ]
  },
  {
   "cell_type": "markdown",
   "id": "dc6b43a6-86e3-4d4b-9caa-cc562117622a",
   "metadata": {
    "jp-MarkdownHeadingCollapsed": true,
    "tags": []
   },
   "source": [
    "## (Lab 2) Data Wrangling"
   ]
  },
  {
   "cell_type": "markdown",
   "id": "f0a81add-efe8-4efb-91a8-fd7d8a9ee2ea",
   "metadata": {},
   "source": [
    "**Load data + overview**"
   ]
  },
  {
   "cell_type": "code",
   "execution_count": null,
   "id": "16abf99e-b9f9-4889-a9d1-7b3018c3877b",
   "metadata": {},
   "outputs": [],
   "source": [
    "# Load and overview\n",
    "df=pd.read_csv(\"https://cf-courses-data.s3.us.cloud-object-storage.appdomain.cloud/IBM-DS0321EN-SkillsNetwork/datasets/dataset_part_1.csv\")\n",
    "df.head(10)\n",
    "df.isnull().sum()/df.count()*100\n",
    "df.dtypes"
   ]
  },
  {
   "cell_type": "code",
   "execution_count": null,
   "id": "2d2b900b-5da6-422d-836c-ed77e67d8a42",
   "metadata": {},
   "outputs": [],
   "source": [
    "# Count launches\n",
    "df['LaunchSite'].value_counts()"
   ]
  },
  {
   "cell_type": "code",
   "execution_count": null,
   "id": "d50e4ab1-28c1-41b0-82f8-ebed0ee8040e",
   "metadata": {},
   "outputs": [],
   "source": [
    "# Count orbits\n",
    "df.Orbit.value_counts()"
   ]
  },
  {
   "cell_type": "code",
   "execution_count": null,
   "id": "087c6b60-81a5-4576-9869-7fb08cd4153f",
   "metadata": {},
   "outputs": [],
   "source": [
    "# Landing outcomes\n",
    "landing_outcomes = df.Outcome.value_counts()\n",
    "landing_outcomes"
   ]
  },
  {
   "cell_type": "code",
   "execution_count": null,
   "id": "79fc88e1-ac85-4183-aada-9053f2440f18",
   "metadata": {},
   "outputs": [],
   "source": [
    "# create landing outcoes column\n",
    "bad_outcomes=set(landing_outcomes.keys()[[1,3,5,6,7]])\n",
    "\n",
    "landing_class = []\n",
    "for outcome in df.Outcome:\n",
    "    if outcome in bad_outcomes:\n",
    "        landing_class.append(0)\n",
    "    else:\n",
    "        landing_class.append(1)\n",
    "\n",
    "df['Class']=landing_class\n",
    "df[['Class']].head()\n",
    "df.head(5)\n",
    "df[\"Class\"].mean()"
   ]
  },
  {
   "cell_type": "markdown",
   "id": "22fb36f9-b951-40bc-ac8a-c469ffd0ff67",
   "metadata": {
    "jp-MarkdownHeadingCollapsed": true,
    "tags": []
   },
   "source": [
    "## (Lab 3) EDA"
   ]
  },
  {
   "cell_type": "code",
   "execution_count": null,
   "id": "c1e4bfe9-a6a8-4b45-af7e-ae3e1e88d92f",
   "metadata": {},
   "outputs": [],
   "source": [
    "# Setup:\n",
    "import matplotlib.pyplot as plt\n",
    "import seaborn as sns\n",
    "df=pd.read_csv(\"https://cf-courses-data.s3.us.cloud-object-storage.appdomain.cloud/IBM-DS0321EN-SkillsNetwork/datasets/dataset_part_2.csv\")\n",
    "df.head()"
   ]
  },
  {
   "cell_type": "code",
   "execution_count": null,
   "id": "7993ecab-d3d4-4bce-9c7b-2d79a3a090b1",
   "metadata": {},
   "outputs": [],
   "source": [
    "# Flight number, Payload\n",
    "sns.catplot(y=\"PayloadMass\", x=\"FlightNumber\", hue=\"Class\", data=df, aspect = 5)\n",
    "plt.xlabel(\"Flight Number\",fontsize=20)\n",
    "plt.ylabel(\"Pay load Mass (kg)\",fontsize=20)\n",
    "plt.title('Flight number, Payload')\n",
    "plt.show()"
   ]
  },
  {
   "cell_type": "code",
   "execution_count": null,
   "id": "b3e7d03d-7054-4e3b-8e8f-667a286fd8c0",
   "metadata": {},
   "outputs": [],
   "source": [
    "# Launch site, flight number, class (fail/ok)\n",
    "sns.catplot(y='LaunchSite', x='FlightNumber', hue='Class', data=df)\n",
    "plt.xlabel('Flight Number')\n",
    "plt.ylabel('Launch Site')\n",
    "plt.title('Launch site, flight number, class (fail/ok)')\n",
    "plt.show()"
   ]
  },
  {
   "cell_type": "code",
   "execution_count": null,
   "id": "b6329963-0495-42e9-8b65-687b56c111b0",
   "metadata": {},
   "outputs": [],
   "source": [
    "# Launch site, payload, class (fail/ok)\n",
    "sns.catplot(y='LaunchSite', x='PayloadMass', hue='Class', data=df)\n",
    "plt.xlabel('Pay Load Mass (kg)')\n",
    "plt.ylabel('Launch Site')\n",
    "plt.title('Launch site, payload, class (fail/ok)')\n",
    "plt.show()"
   ]
  },
  {
   "cell_type": "code",
   "execution_count": null,
   "id": "6d289d23-c340-4b20-905e-d3e167178db2",
   "metadata": {},
   "outputs": [],
   "source": [
    "# success rate x orbit type\n",
    "df_sorted = df.groupby('Orbit').mean()['Class'].reset_index().sort_values(['Class'], ascending=True)\n",
    "fig, ax = plt.subplots()\n",
    "ax.barh(df_sorted.Orbit, df_sorted.Class * 100)\n",
    "plt.xlabel('Success Rate (%)')\n",
    "plt.ylabel('Orbit Type')\n",
    "plt.title('success rate x orbit type')\n",
    "plt.show()"
   ]
  },
  {
   "cell_type": "code",
   "execution_count": null,
   "id": "9f8ce25a-804c-4de2-9b12-e9f0d93b9abf",
   "metadata": {},
   "outputs": [],
   "source": [
    "# Flight number, orbit type, class (fail/ok)\n",
    "sns.catplot(x='FlightNumber', y='Orbit', hue='Class', data=df)\n",
    "plt.xlabel('Fligh Number')\n",
    "plt.ylabel('Orbit Type')\n",
    "plt.title('Flight number, orbit type, class (fail/ok)')\n",
    "plt.show()"
   ]
  },
  {
   "cell_type": "code",
   "execution_count": null,
   "id": "0cf2e90c-3906-4baa-aeeb-8e6ae41c5a29",
   "metadata": {},
   "outputs": [],
   "source": [
    "# Payload, orbit type, class(fail/ok)\n",
    "sns.catplot(x='PayloadMass', y='Orbit', hue='Class', data=df)\n",
    "plt.xlabel('Pay load Mass (kg)')\n",
    "plt.ylabel('Orbit Type')\n",
    "plt.title('Payload, orbit type, class(fail/ok)')\n",
    "plt.show()"
   ]
  },
  {
   "cell_type": "code",
   "execution_count": null,
   "id": "14e54fdd-6dc6-48d1-86dc-fdf34f5d4c70",
   "metadata": {},
   "outputs": [],
   "source": [
    "# launch success yearly trend\n",
    "year=[]\n",
    "def Extract_year(date):\n",
    "    for i in df[\"Date\"]:\n",
    "        year.append(i.split(\"-\")[0])\n",
    "    return year\n",
    "\n",
    "df.groupby(Extract_year(df['Date'])).mean()['Class'].plot(kind='line')\n",
    "plt.xlabel('Year')\n",
    "plt.ylabel('Success Rate')\n",
    "plt.title('launch success over time')\n",
    "plt.show()"
   ]
  },
  {
   "cell_type": "markdown",
   "id": "b05b7201-f21c-434b-8555-5bb306af2b45",
   "metadata": {},
   "source": [
    "**Create dummies and fix numeric columns**"
   ]
  },
  {
   "cell_type": "code",
   "execution_count": null,
   "id": "4c8ab96a-ce36-41eb-b2e7-443e0354ebff",
   "metadata": {},
   "outputs": [],
   "source": [
    "features = df[['FlightNumber', 'PayloadMass', 'Orbit', 'LaunchSite', 'Flights', 'GridFins', 'Reused', 'Legs', 'LandingPad', 'Block', 'ReusedCount', 'Serial']]\n",
    "features_one_hot = pd.get_dummies(features, columns=['Orbit', 'LaunchSite', 'LandingPad', 'Serial'])\n",
    "features_one_hot.astype('float64')"
   ]
  },
  {
   "cell_type": "markdown",
   "id": "41e50557-38fd-4806-aec2-a524f1d1dcb8",
   "metadata": {
    "jp-MarkdownHeadingCollapsed": true,
    "tags": []
   },
   "source": [
    "## (Lab 4) Interactive visualization"
   ]
  },
  {
   "cell_type": "markdown",
   "id": "b4fe8fd5-0fe0-4349-9a03-c223010c0ad3",
   "metadata": {},
   "source": [
    "**Folium visualizations**"
   ]
  },
  {
   "cell_type": "code",
   "execution_count": null,
   "id": "efb77c74-47d4-420c-a05c-ba26e4a39212",
   "metadata": {},
   "outputs": [],
   "source": [
    "# Setup\n",
    "#!pip3 install folium\n",
    "#!pip3 install wget\n",
    "import folium\n",
    "import wget\n",
    "from folium.plugins import MarkerCluster\n",
    "from folium.plugins import MousePosition\n",
    "from folium.features import DivIcon\n",
    "\n",
    "spacex_csv_file = wget.download('https://cf-courses-data.s3.us.cloud-object-storage.appdomain.cloud/IBM-DS0321EN-SkillsNetwork/datasets/spacex_launch_geo.csv')\n",
    "spacex_df=pd.read_csv(spacex_csv_file)\n",
    "spacex_df = spacex_df[['Launch Site', 'Lat', 'Long', 'class']]\n",
    "launch_sites_df = spacex_df.groupby(['Launch Site'], as_index=False).first()\n",
    "launch_sites_df = launch_sites_df[['Launch Site', 'Lat', 'Long', 'class']]\n",
    "launch_sites_df"
   ]
  },
  {
   "cell_type": "code",
   "execution_count": null,
   "id": "a4bc1b34-187c-45bf-b2f0-c8fad7cc0833",
   "metadata": {},
   "outputs": [],
   "source": [
    "# First map\n",
    "nasa_coordinate = [29.559684888503615, -95.0830971930759]\n",
    "site_map = folium.Map(location=nasa_coordinate, zoom_start=10)\n",
    "circle = folium.Circle(nasa_coordinate, radius=1000, color='#007fd3', fill=True).add_child(folium.Popup('NASA Johnson Space Center'))\n",
    "marker = folium.map.Marker(\n",
    "    nasa_coordinate,\n",
    "    # Create an icon as a text label\n",
    "    icon=DivIcon(\n",
    "        icon_size=(20,20),\n",
    "        icon_anchor=(0,0),\n",
    "        html='%s' % 'NASA JSC',\n",
    "            )\n",
    "        )\n",
    "site_map.add_child(circle)\n",
    "site_map.add_child(marker)"
   ]
  },
  {
   "cell_type": "code",
   "execution_count": null,
   "id": "fff0f74f-0f03-4372-beb1-2ca2491f24b5",
   "metadata": {},
   "outputs": [],
   "source": [
    "# Second map\n",
    "# Initial the map\n",
    "site_map = folium.Map(location=nasa_coordinate, zoom_start=5)\n",
    "# For each launch site, add a Circle object based on its coordinate (Lat, Long) values. In addition, add Launch site name as a popup label\n",
    "for lat, lng, label in zip(launch_sites_df['Lat'], launch_sites_df['Long'], launch_sites_df['Launch Site']):\n",
    "    coordinate = [lat, lng]\n",
    "    circle = folium.Circle(coordinate, radius=1000, color='#d35400', fill=True).add_child(folium.Popup(label))\n",
    "    marker = folium.map.Marker(\n",
    "        coordinate, \n",
    "        icon=DivIcon(\n",
    "            icon_size=(20,20),\n",
    "            icon_anchor=(0,0), \n",
    "            html='%s' % label, \n",
    "            )\n",
    "        )\n",
    "    site_map.add_child(circle)\n",
    "    site_map.add_child(marker)\n",
    "\n",
    "site_map"
   ]
  },
  {
   "cell_type": "code",
   "execution_count": null,
   "id": "d9f32799-e7a1-444f-9fa3-3f5b12293083",
   "metadata": {},
   "outputs": [],
   "source": [
    "# Third map\n",
    "marker_cluster = MarkerCluster()\n",
    "\n",
    "# create column in df\n",
    "\n",
    "# f1\n",
    "def assign_marker_color_LSDF(launch_class):\n",
    "    if launch_class == 1:\n",
    "        return 'green'\n",
    "    else:\n",
    "        return 'red'\n",
    "\n",
    "launch_sites_df['marker_color'] = launch_sites_df['class'].apply(assign_marker_color_LSDF)\n",
    "\n",
    "# f2\n",
    "def assign_marker_color(launch_outcome):\n",
    "    if launch_outcome == 1:\n",
    "        return 'green'\n",
    "    else:\n",
    "        return 'red'\n",
    "    \n",
    "spacex_df['marker_color'] = spacex_df['class'].apply(assign_marker_color)\n",
    "                                                     \n",
    "# Add markers to map\n",
    "for lat, lng, label, color in zip(spacex_df['Lat'], spacex_df['Long'], spacex_df['Launch Site'], spacex_df['marker_color']):\n",
    "                                                     coordinate = [lat, lng]\n",
    "                                                     marker = folium.Marker(\n",
    "                                                         coordinate,\n",
    "                                                         icon=folium.Icon(color='white', icon_color=color),\n",
    "                                                         popup=label)\n",
    "                                                     marker_cluster.add_child(marker)\n",
    "\n",
    "site_map"
   ]
  },
  {
   "cell_type": "code",
   "execution_count": null,
   "id": "49e1e3e5-60c0-43d7-bbe5-fe0575834ee9",
   "metadata": {},
   "outputs": [],
   "source": [
    "# Map 4\n",
    "marker_cluster = MarkerCluster()\n",
    "\n",
    "def assign_marker_color_LSDF(launch_class):\n",
    "    if launch_class == 1:\n",
    "        return 'green'\n",
    "    else:\n",
    "        return 'red'\n",
    "\n",
    "launch_sites_df['marker_color'] = launch_sites_df['class'].apply(assign_marker_color_LSDF)\n",
    "launch_sites_df\n",
    "\n",
    "def assign_marker_color(launch_outcome):\n",
    "    if launch_outcome == 1:\n",
    "        return 'green'\n",
    "    else:\n",
    "        return 'red'\n",
    "    \n",
    "spacex_df['marker_color'] = spacex_df['class'].apply(assign_marker_color)\n",
    "spacex_df.tail(10)\n",
    "\n",
    "site_map.add_child(marker_cluster)\n",
    "\n",
    "for lat, lng, label, color in zip(spacex_df['Lat'], spacex_df['Long'], spacex_df['Launch Site'], spacex_df['marker_color']):\n",
    "    coordinate = [lat, lng]\n",
    "    marker = folium.Marker(\n",
    "        coordinate, \n",
    "        icon=folium.Icon(color='white', icon_color=color),\n",
    "        popup=label\n",
    "    )\n",
    "    marker_cluster.add_child(marker)\n",
    "\n",
    "site_map"
   ]
  },
  {
   "cell_type": "code",
   "execution_count": null,
   "id": "c4007c14-2db6-4184-9ce5-392b29221196",
   "metadata": {},
   "outputs": [],
   "source": [
    "# Calculation of proximities\n",
    "formatter = \"function(num) {return L.Util.formatNum(num, 5);};\"\n",
    "mouse_position = MousePosition(\n",
    "    position='topright',\n",
    "    separator=' Long: ',\n",
    "    empty_string='NaN',\n",
    "    lng_first=False,\n",
    "    num_digits=20,\n",
    "    prefix='Lat:',\n",
    "    lat_formatter=formatter,\n",
    "    lng_formatter=formatter,\n",
    ")\n",
    "\n",
    "site_map.add_child(mouse_position)\n",
    "site_map"
   ]
  },
  {
   "cell_type": "code",
   "execution_count": null,
   "id": "bee35e98-6fcd-4a67-9c87-9ec95381232b",
   "metadata": {},
   "outputs": [],
   "source": [
    "# Calculate positions\n",
    "\n",
    "from math import sin, cos, sqrt, atan2, radians\n",
    "\n",
    "def calculate_distance(lat1, lon1, lat2, lon2):\n",
    "    # approximate radius of earth in km\n",
    "    R = 6373.0\n",
    "\n",
    "    lat1 = radians(lat1)\n",
    "    lon1 = radians(lon1)\n",
    "    lat2 = radians(lat2)\n",
    "    lon2 = radians(lon2)\n",
    "\n",
    "    dlon = lon2 - lon1\n",
    "    dlat = lat2 - lat1\n",
    "\n",
    "    a = sin(dlat / 2)**2 + cos(lat1) * cos(lat2) * sin(dlon / 2)**2\n",
    "    c = 2 * atan2(sqrt(a), sqrt(1 - a))\n",
    "\n",
    "    distance = R * c\n",
    "    return distance"
   ]
  },
  {
   "cell_type": "code",
   "execution_count": null,
   "id": "483d27fe-9fd2-4924-85e5-d67067fd8855",
   "metadata": {},
   "outputs": [],
   "source": [
    "# find coordinate of the closet coastline\n",
    "coastline_lat = 28.56398\n",
    "coastline_lon = -80.56809\n",
    "launch_site_lat = 28.56321\n",
    "launch_site_lon = -80.57683\n",
    "distance_coastline = calculate_distance(launch_site_lat, launch_site_lon, coastline_lat, coastline_lon)"
   ]
  },
  {
   "cell_type": "code",
   "execution_count": null,
   "id": "c8193fcd-8d4d-46ec-8353-dce96c7a4285",
   "metadata": {},
   "outputs": [],
   "source": [
    "# Display the distance between coastline point and launch site using the icon property \n",
    "coast_coordinates = [coastline_lat, coastline_lon]\n",
    "distance_marker = folium.Marker(\n",
    "    coast_coordinates,\n",
    "    icon=DivIcon(\n",
    "        icon_size=(20,20),\n",
    "        icon_anchor=(0,0),\n",
    "        html='%s' % \"{:10.2f} KM\".format(distance_coastline),\n",
    "        )\n",
    "    )\n",
    "distance_marker.add_to(site_map)\n",
    "site_map"
   ]
  },
  {
   "cell_type": "code",
   "execution_count": null,
   "id": "e4897076-f635-4248-ad74-b713c45b5186",
   "metadata": {},
   "outputs": [],
   "source": [
    "# Create a `folium.PolyLine` object using the coastline coordinates and launch site coordinate\n",
    "launch_site_coordinates = [launch_site_lat, launch_site_lon]\n",
    "lines=folium.PolyLine(locations=[coast_coordinates, launch_site_coordinates], weight=1)\n",
    "site_map.add_child(lines)"
   ]
  },
  {
   "cell_type": "code",
   "execution_count": null,
   "id": "c97df794-7dc3-4c2c-aa0c-ce83a10ede20",
   "metadata": {},
   "outputs": [],
   "source": [
    "# Create a marker with distance to a closest city, railway, highway, etc.\n",
    "city_lat = 28.61208\n",
    "city_lon = -80.80764\n",
    "distance_city = calculate_distance(launch_site_lat, launch_site_lon, city_lat, city_lon)\n",
    "\n",
    "city_coordinates = [city_lat, city_lon]\n",
    "distance_marker = folium.Marker(\n",
    "    city_coordinates,\n",
    "    icon=DivIcon(\n",
    "        icon_size=(20,20),\n",
    "        icon_anchor=(0,0),\n",
    "        html='%s' % \"{:10.2f} KM\".format(distance_city),\n",
    "        )\n",
    "    )\n",
    "distance_marker.add_to(site_map)\n",
    "\n",
    "launch_site_coordinates = [launch_site_lat, launch_site_lon]\n",
    "lines=folium.PolyLine(locations=[city_coordinates, launch_site_coordinates], weight=1)\n",
    "site_map.add_child(lines)\n",
    "site_map"
   ]
  },
  {
   "cell_type": "code",
   "execution_count": null,
   "id": "0630ccac-aef4-45b7-894a-172b24c425d9",
   "metadata": {},
   "outputs": [],
   "source": [
    "# Draw a line between the closest railway to the launch site\n",
    "railway_lat = 28.57208\n",
    "railway_lon = -80.58527\n",
    "distance_railway = calculate_distance(launch_site_lat, launch_site_lon, railway_lat, railway_lon)\n",
    "\n",
    "railway_coordinates = [railway_lat, railway_lon]\n",
    "distance_marker = folium.Marker(\n",
    "    railway_coordinates,\n",
    "    icon=DivIcon(\n",
    "        icon_size=(20,20),\n",
    "        icon_anchor=(0,0),\n",
    "        html='%s' % \"{:10.2f} KM\".format(distance_railway),\n",
    "        )\n",
    "    )\n",
    "distance_marker.add_to(site_map)\n",
    "\n",
    "launch_site_coordinates = [launch_site_lat, launch_site_lon]\n",
    "lines=folium.PolyLine(locations=[railway_coordinates, launch_site_coordinates], weight=1)\n",
    "site_map.add_child(lines)\n",
    "site_map"
   ]
  },
  {
   "cell_type": "code",
   "execution_count": null,
   "id": "9ca4b6ff-4ae7-4db9-9513-236cad624d7c",
   "metadata": {},
   "outputs": [],
   "source": [
    "# Draw a line between the closest highway to the launch site\n",
    "highway_lat = 28.56478\n",
    "highway_lon = -80.57103\n",
    "distance_highway = calculate_distance(launch_site_lat, launch_site_lon, highway_lat, highway_lon)\n",
    "\n",
    "highway_coordinates = [highway_lat, highway_lon]\n",
    "distance_marker = folium.Marker(\n",
    "    highway_coordinates,\n",
    "    icon=DivIcon(\n",
    "        icon_size=(20,20),\n",
    "        icon_anchor=(0,0),\n",
    "        html='%s' % \"{:10.2f} KM\".format(distance_highway),\n",
    "        )\n",
    "    )\n",
    "distance_marker.add_to(site_map)\n",
    "\n",
    "launch_site_coordinates = [launch_site_lat, launch_site_lon]\n",
    "lines=folium.PolyLine(locations=[highway_coordinates, launch_site_coordinates], weight=1)\n",
    "site_map.add_child(lines)\n",
    "site_map"
   ]
  },
  {
   "cell_type": "code",
   "execution_count": null,
   "id": "e76bbd6d-0d75-4ab3-a7a9-ccd5683c1741",
   "metadata": {},
   "outputs": [],
   "source": [
    "# Draw a line between the closest city(Cape Canaveral) to the launch site\n",
    "city_2_lat = 28.40159\n",
    "city_2_lon = -80.6042\n",
    "distance_city_2 = calculate_distance(launch_site_lat, launch_site_lon, city_2_lat, city_2_lon)\n",
    "\n",
    "city_2_coordinates = [city_2_lat, city_2_lon]\n",
    "distance_marker = folium.Marker(\n",
    "    city_2_coordinates,\n",
    "    icon=DivIcon(\n",
    "        icon_size=(20,20),\n",
    "        icon_anchor=(0,0),\n",
    "        html='%s' % \"{:10.2f} KM\".format(distance_city_2),\n",
    "        )\n",
    "    )\n",
    "distance_marker.add_to(site_map)\n",
    "\n",
    "launch_site_coordinates = [launch_site_lat, launch_site_lon]\n",
    "lines=folium.PolyLine(locations=[city_2_coordinates, launch_site_coordinates], weight=1)\n",
    "site_map.add_child(lines)\n",
    "site_map"
   ]
  },
  {
   "cell_type": "code",
   "execution_count": null,
   "id": "b90b023c-17ae-48f8-b317-c935d560accc",
   "metadata": {},
   "outputs": [],
   "source": [
    "# Draw a line between the closest city(Lompoc) to the launch site(Space Launch Complex 4)\n",
    "launch_site_4_lat = 34.63286\n",
    "launch_site_4_lon = -120.61074\n",
    "launch_site_4_coordinates = [launch_site_4_lat, launch_site_4_lon]\n",
    "\n",
    "city_Lompoc_lat = 34.63879\n",
    "city_Lompoc_lon = -120.45788\n",
    "distance_city_Lompoc = calculate_distance(launch_site_4_lat, launch_site_4_lon, city_Lompoc_lat, city_Lompoc_lon)\n",
    "\n",
    "city_Lompoc_coordinates = [city_Lompoc_lat, city_Lompoc_lon]\n",
    "\n",
    "distance_marker = folium.Marker(\n",
    "    city_Lompoc_coordinates,\n",
    "    icon=DivIcon(\n",
    "        icon_size=(20,20),\n",
    "        icon_anchor=(0,0),\n",
    "        html='%s' % \"{:10.2f} KM\".format(distance_city_Lompoc),\n",
    "        )\n",
    "    )\n",
    "distance_marker.add_to(site_map)\n",
    "\n",
    "lines=folium.PolyLine(locations=[city_Lompoc_coordinates, launch_site_4_coordinates], weight=1)\n",
    "site_map.add_child(lines)\n",
    "\n",
    "# Draw a line between the closest coast to the launch site(Space Launch Complex 4)\n",
    "west_coast_lat = 34.63698\n",
    "west_coast_lon = -120.6245\n",
    "distance_west_coast = calculate_distance(launch_site_4_lat, launch_site_4_lon, west_coast_lat, west_coast_lon)\n",
    "\n",
    "west_coast_coordinates = [west_coast_lat, west_coast_lon]\n",
    "\n",
    "distance_marker = folium.Marker(\n",
    "    west_coast_coordinates,\n",
    "    icon=DivIcon(\n",
    "        icon_size=(20,20),\n",
    "        icon_anchor=(0,0),\n",
    "        html='%s' % \"{:10.2f} KM\".format(distance_west_coast),\n",
    "        )\n",
    "    )\n",
    "distance_marker.add_to(site_map)\n",
    "\n",
    "lines=folium.PolyLine(locations=[west_coast_coordinates, launch_site_4_coordinates], weight=1)\n",
    "site_map.add_child(lines)\n",
    "\n",
    "# Draw a line between the closest railway to the launch site(Space Launch Complex 4)\n",
    "railway_4_lat = 34.63677\n",
    "railway_4_lon = -120.6236\n",
    "distance_railway_4 = calculate_distance(launch_site_4_lat, launch_site_4_lon, railway_4_lat, railway_4_lon)\n",
    "\n",
    "railway_4_coordinates = [railway_4_lat, railway_4_lon]\n",
    "\n",
    "distance_marker = folium.Marker(\n",
    "    railway_4_coordinates,\n",
    "    icon=DivIcon(\n",
    "        icon_size=(20,20),\n",
    "        icon_anchor=(0,0),\n",
    "        html='%s' % \"{:10.2f} KM\".format(distance_railway_4),\n",
    "        )\n",
    "    )\n",
    "distance_marker.add_to(site_map)\n",
    "\n",
    "lines=folium.PolyLine(locations=[railway_4_coordinates, launch_site_4_coordinates], weight=1)\n",
    "site_map.add_child(lines)\n",
    "\n",
    "site_map"
   ]
  },
  {
   "cell_type": "markdown",
   "id": "336b1ade-8f25-4f22-b1fe-04b69d72fda2",
   "metadata": {},
   "source": [
    "**Plotly**"
   ]
  },
  {
   "cell_type": "code",
   "execution_count": null,
   "id": "5ace2429-e519-4441-88d5-7f832f4c7680",
   "metadata": {},
   "outputs": [],
   "source": [
    "# Setup\n",
    "!pip install dash\n",
    "import dash\n",
    "import dash_html_components as html\n",
    "import dash_core_components as dcc\n",
    "from dash.dependencies import Input, Output\n",
    "import plotly.express as px"
   ]
  },
  {
   "cell_type": "code",
   "execution_count": null,
   "id": "291350c5-cb35-462e-a932-6612b0226a50",
   "metadata": {},
   "outputs": [],
   "source": [
    "# Read the airline data into pandas dataframe\n",
    "spacex_df = pd.read_csv(\"spacex_launch_dash.csv\")\n",
    "max_payload = spacex_df['Payload Mass (kg)'].max()\n",
    "min_payload = spacex_df['Payload Mass (kg)'].min()\n",
    "\n",
    "# Create a dash application\n",
    "app = dash.Dash(__name__)\n",
    "\n",
    "# Create an app layout\n",
    "app.layout = html.Div(children=[html.H1('SpaceX Launch Records Dashboard',\n",
    "                                        style={'textAlign': 'center', 'color': '#503D36',\n",
    "                                               'font-size': 40}),\n",
    "                                # TASK 1: Add a dropdown list to enable Launch Site selection\n",
    "                                # The default select value is for ALL sites\n",
    "                                dcc.Dropdown(id='site-dropdown',\n",
    "                                            options=[\n",
    "                                                {'label': 'All Sites', 'value': 'ALL'},\n",
    "                                                {'label': 'CCAFS LC-40', 'value': 'CCAFS LC-40'},\n",
    "                                                {'label': 'VAFB SLC-4E', 'value': 'VAFB SLC-4E'},\n",
    "                                                {'label': 'KSC LC-39A', 'value': 'KSC LC-39A'},\n",
    "                                                {'label': 'CCAFS SLC-40', 'value': 'CCAFS SLC-40'},\n",
    "                                            ],\n",
    "                                            value='ALL',\n",
    "                                            placeholder=\"Select a Launch Site here\",\n",
    "                                            searchable=True\n",
    "                                            ),\n",
    "                                html.Br(),\n",
    "\n",
    "                                # TASK 2: Add a pie chart to show the total successful launches count for all sites\n",
    "                                # If a specific launch site was selected, show the Success vs. Failed counts for the site\n",
    "                                html.Div(dcc.Graph(id='success-pie-chart')),\n",
    "                                html.Br(),\n",
    "\n",
    "                                html.P(\"Payload range (Kg):\"),\n",
    "                                # TASK 3: Add a slider to select payload range\n",
    "                                #dcc.RangeSlider(id='payload-slider',...)\n",
    "                                dcc.RangeSlider(id='payload-slider',\n",
    "                                                min=0, max=10000, step=1000,\n",
    "                                                marks={0: '0', 2500: '2500', 5000: '5000', 7500: '7500', 10000: '10000'},\n",
    "                                                value=[min_payload, max_payload]),\n",
    "                                # TASK 4: Add a scatter chart to show the correlation between payload and launch success\n",
    "                                html.Div(dcc.Graph(id='success-payload-scatter-chart')),\n",
    "                                ])\n",
    "\n",
    "# TASK 2:\n",
    "# Add a callback function for `site-dropdown` as input, `success-pie-chart` as output\n",
    "# Function decorator to specify function input and output\n",
    "@app.callback(Output(component_id='success-pie-chart', component_property='figure'),\n",
    "              Input(component_id='site-dropdown', component_property='value'))\n",
    "def get_pie_chart(entered_site):\n",
    "    filtered_df = spacex_df\n",
    "    if entered_site == 'ALL':\n",
    "        fig = px.pie(filtered_df, values='class', \n",
    "        names='Launch Site', \n",
    "        title='Total Success Launches By Site')\n",
    "        return fig\n",
    "    else:\n",
    "        # return the outcomes piechart for a selected site\n",
    "        filtered_df = spacex_df[spacex_df['Launch Site'] == entered_site]\n",
    "        filtered_df = filtered_df.groupby(['Launch Site', 'class']).size().reset_index(name='class count')\n",
    "        fig = px.pie(filtered_df, values='class count', \n",
    "        names='class',\n",
    "        title=f'Total Success Launched for site {entered_site}')\n",
    "        return fig\n",
    "# TASK 4:\n",
    "# Add a callback function for `site-dropdown` and `payload-slider` as inputs, `success-payload-scatter-chart` as output\n",
    "@app.callback(Output(component_id='success-payload-scatter-chart', component_property='figure'),\n",
    "              [Input(component_id='site-dropdown', component_property='value'), \n",
    "              Input(component_id='payload-slider', component_property='value')])\n",
    "def get_scatter_chart(entered_site, payload):\n",
    "    low, high = payload\n",
    "    filtered_df = spacex_df[(spacex_df['Payload Mass (kg)'] > low) & (spacex_df['Payload Mass (kg)'] < high)]       \n",
    "    if entered_site == 'ALL':\n",
    "        fig = px.scatter(filtered_df, x='Payload Mass (kg)', y='class', \n",
    "        color='Booster Version Category',\n",
    "        title='Correlation between Payload and Success for all Sites')\n",
    "        return fig\n",
    "    else:\n",
    "        fig = px.scatter(filtered_df[filtered_df['Launch Site'] == entered_site],\n",
    "        x='Payload Mass (kg)', y='class',\n",
    "        color='Booster Version Category',\n",
    "        title=f'Correlation between Payload and Success for site {entered_site}')\n",
    "        return fig\n",
    "\n",
    "# Run the app\n",
    "if __name__ == '__main__':\n",
    "    app.run_server()"
   ]
  },
  {
   "cell_type": "markdown",
   "id": "b483accf-2259-4c76-9140-8757f4cabebe",
   "metadata": {},
   "source": [
    "## (Lab 5) Modeling"
   ]
  },
  {
   "cell_type": "code",
   "execution_count": 129,
   "id": "ebed068c-e2d9-49ad-8ccd-0f8cbdff5c52",
   "metadata": {},
   "outputs": [],
   "source": [
    "# Setup\n",
    "from sklearn import preprocessing\n",
    "from sklearn.model_selection import train_test_split\n",
    "from sklearn.model_selection import GridSearchCV\n",
    "from sklearn.linear_model import LogisticRegression\n",
    "from sklearn.svm import SVC\n",
    "from sklearn.tree import DecisionTreeClassifier\n",
    "from sklearn.neighbors import KNeighborsClassifier\n",
    "\n",
    "# for later: confusion matrix\n",
    "def plot_confusion_matrix(y,y_predict):\n",
    "    \"this function plots the confusion matrix\"\n",
    "    from sklearn.metrics import confusion_matrix\n",
    "\n",
    "    cm = confusion_matrix(y, y_predict)\n",
    "    ax= plt.subplot()\n",
    "    sns.heatmap(cm, annot=True, ax = ax); #annot=True to annotate cells\n",
    "    ax.set_xlabel('Predicted labels')\n",
    "    ax.set_ylabel('True labels')\n",
    "    ax.set_title('Confusion Matrix'); \n",
    "    ax.xaxis.set_ticklabels(['did not land', 'land']); ax.yaxis.set_ticklabels(['did not land', 'landed'])\n",
    "    plt.show()"
   ]
  },
  {
   "cell_type": "code",
   "execution_count": null,
   "id": "7d1eafd9-0c76-4d71-8167-e936f69bf8a2",
   "metadata": {},
   "outputs": [],
   "source": [
    "# load and clean data (standardize)\n",
    "data = pd.read_csv(\"https://cf-courses-data.s3.us.cloud-object-storage.appdomain.cloud/IBM-DS0321EN-SkillsNetwork/datasets/dataset_part_2.csv\")\n",
    "X = pd.read_csv('https://cf-courses-data.s3.us.cloud-object-storage.appdomain.cloud/IBM-DS0321EN-SkillsNetwork/datasets/dataset_part_3.csv')\n",
    "Y = data['Class'].to_numpy()\n",
    "\n",
    "transform = preprocessing.StandardScaler()\n",
    "X = transform.fit_transform(X)"
   ]
  },
  {
   "cell_type": "code",
   "execution_count": 131,
   "id": "98bacfd9-5391-4ace-91df-844146c26c87",
   "metadata": {},
   "outputs": [
    {
     "data": {
      "text/plain": [
       "18"
      ]
     },
     "execution_count": 131,
     "metadata": {},
     "output_type": "execute_result"
    }
   ],
   "source": [
    "# Train and test\n",
    "X_train, X_test, Y_train, Y_test = train_test_split(X, Y, test_size=0.2, random_state=2)\n",
    "len(X_test)"
   ]
  },
  {
   "cell_type": "markdown",
   "id": "1324d0f1-3b5b-4b38-86b8-30e3322482a2",
   "metadata": {},
   "source": [
    "**Logistic regression**"
   ]
  },
  {
   "cell_type": "code",
   "execution_count": null,
   "id": "d39f40d7-06ff-4e60-b995-baf90f4ae292",
   "metadata": {},
   "outputs": [],
   "source": [
    "# Create model\n",
    "parameters ={'C':[0.01,0.1,1],\n",
    "             'penalty':['l2'],\n",
    "             'solver':['lbfgs']}\n",
    "\n",
    "parameters ={\"C\":[0.01,0.1,1],'penalty':['l2'], 'solver':['lbfgs']}# l1 lasso l2 ridge\n",
    "lr=LogisticRegression()\n",
    "logreg_cv = GridSearchCV(lr, parameters, cv = 10)\n",
    "logreg_cv.fit(X_train, Y_train)\n",
    "\n",
    "print(\"tuned hpyerparameters :(best parameters) \",logreg_cv.best_params_)\n",
    "print(\"accuracy :\",logreg_cv.best_score_)"
   ]
  },
  {
   "cell_type": "code",
   "execution_count": null,
   "id": "70941097-73ff-4246-aea6-f8a26ed50f5d",
   "metadata": {},
   "outputs": [],
   "source": [
    "# Evaluating a model\n",
    "methods = []\n",
    "accuracy = []\n",
    "methods.append('Logistic regression')\n",
    "accuracy.append(logreg_cv.score(X_test, Y_test))\n",
    "print(\"test set accuracy :\",logreg_cv.score(X_test, Y_test))\n",
    "yhat=logreg_cv.predict(X_test)\n",
    "plot_confusion_matrix(Y_test,yhat)"
   ]
  },
  {
   "cell_type": "markdown",
   "id": "4cce1f87-f2b3-4aae-9435-68c254971cb3",
   "metadata": {},
   "source": [
    "**SVM**"
   ]
  },
  {
   "cell_type": "code",
   "execution_count": null,
   "id": "42765ea4-d734-4f29-bce8-31ef935d11be",
   "metadata": {},
   "outputs": [],
   "source": [
    "# Create model\n",
    "parameters = {'kernel':('linear', 'rbf','poly','rbf', 'sigmoid'),\n",
    "              'C': np.logspace(-3, 3, 5),\n",
    "              'gamma':np.logspace(-3, 3, 5)}\n",
    "svm = SVC()\n",
    "svm_cv = GridSearchCV(svm, parameters, cv = 10)\n",
    "svm_cv.fit(X_train, Y_train)\n",
    "print(\"tuned hpyerparameters :(best parameters) \",svm_cv.best_params_)\n",
    "print(\"accuracy :\",svm_cv.best_score_)"
   ]
  },
  {
   "cell_type": "code",
   "execution_count": null,
   "id": "2aa4e39c-9b48-44e7-a16e-a93268e182da",
   "metadata": {},
   "outputs": [],
   "source": [
    "# Calcualte accuracy\n",
    "methods.append('Support vector machine')\n",
    "accuracy.append(svm_cv.score(X_test, Y_test))\n",
    "print(\"test set accuracy :\",svm_cv.score(X_test, Y_test))\n",
    "yhat=svm_cv.predict(X_test)\n",
    "plot_confusion_matrix(Y_test,yhat)"
   ]
  },
  {
   "cell_type": "markdown",
   "id": "8b6dd369-0c72-42b1-80fe-ded49c0c0762",
   "metadata": {},
   "source": [
    "**Decision tree**"
   ]
  },
  {
   "cell_type": "code",
   "execution_count": null,
   "id": "e5081f45-4d51-433d-af77-175fdebb8d28",
   "metadata": {},
   "outputs": [],
   "source": [
    "# Create model\n",
    "parameters = {'criterion': ['gini', 'entropy'],\n",
    "     'splitter': ['best', 'random'],\n",
    "     'max_depth': [2*n for n in range(1,10)],\n",
    "     'max_features': ['auto', 'sqrt'],\n",
    "     'min_samples_leaf': [1, 2, 4],\n",
    "     'min_samples_split': [2, 5, 10]}\n",
    "\n",
    "tree = DecisionTreeClassifier()\n",
    "tree_cv = GridSearchCV(tree,parameters,cv=10)\n",
    "tree_cv.fit(X_train, Y_train)\n",
    "print(\"tuned hpyerparameters :(best parameters) \",tree_cv.best_params_)\n",
    "print(\"accuracy :\",tree_cv.best_score_)"
   ]
  },
  {
   "cell_type": "code",
   "execution_count": 119,
   "id": "c15afcdb-f630-487a-9adc-be4a92736114",
   "metadata": {},
   "outputs": [
    {
     "name": "stdout",
     "output_type": "stream",
     "text": [
      "test set accuracy : 0.8888888888888888\n"
     ]
    }
   ],
   "source": [
    "# Calculate accuracy\n",
    "methods.append('Decision tree classifier')\n",
    "accuracy.append(tree_cv.score(X_test, Y_test))\n",
    "print(\"test set accuracy :\",tree_cv.score(X_test, Y_test))"
   ]
  },
  {
   "cell_type": "code",
   "execution_count": 130,
   "id": "3edf0e29-2634-4558-b2ba-91067d0a8e13",
   "metadata": {},
   "outputs": [
    {
     "data": {
      "image/png": "[encoded data removed]",
      "text/plain": [
       "<Figure size 640x480 with 2 Axes>"
      ]
     },
     "metadata": {},
     "output_type": "display_data"
    }
   ],
   "source": [
    "yhat = svm_cv.predict(X_test)\n",
    "plot_confusion_matrix(Y_test,yhat)"
   ]
  },
  {
   "cell_type": "markdown",
   "id": "ca025858-a54e-48c1-a6a8-c78d6b165520",
   "metadata": {},
   "source": [
    "**KNN**"
   ]
  },
  {
   "cell_type": "code",
   "execution_count": 120,
   "id": "c1f6066c-6180-4467-aa10-ab9fb9ea30a1",
   "metadata": {},
   "outputs": [
    {
     "name": "stdout",
     "output_type": "stream",
     "text": [
      "tuned hpyerparameters :(best parameters)  {'algorithm': 'auto', 'n_neighbors': 10, 'p': 1}\n",
      "accuracy : 0.8482142857142858\n"
     ]
    }
   ],
   "source": [
    "# Create model\n",
    "parameters = {'n_neighbors': [1, 2, 3, 4, 5, 6, 7, 8, 9, 10],\n",
    "              'algorithm': ['auto', 'ball_tree', 'kd_tree', 'brute'],\n",
    "              'p': [1,2]}\n",
    "\n",
    "KNN = KNeighborsClassifier()\n",
    "\n",
    "knn_cv = GridSearchCV(KNN,parameters,cv=10)\n",
    "knn_cv.fit(X_train, Y_train)\n",
    "\n",
    "print(\"tuned hpyerparameters :(best parameters) \",knn_cv.best_params_)\n",
    "print(\"accuracy :\",knn_cv.best_score_)"
   ]
  },
  {
   "cell_type": "code",
   "execution_count": 121,
   "id": "8e8227e7-362b-4808-90d4-1e2377557239",
   "metadata": {},
   "outputs": [
    {
     "name": "stdout",
     "output_type": "stream",
     "text": [
      "test set accuracy : 0.8333333333333334\n"
     ]
    }
   ],
   "source": [
    "# Calculate accuracy\n",
    "methods.append('K nearest neighbors')\n",
    "accuracy.append(knn_cv.score(X_test, Y_test))\n",
    "print(\"test set accuracy :\",knn_cv.score(X_test, Y_test))\n",
    "\n",
    "yhat = knn_cv.predict(X_test)\n",
    "plot_confusion_matrix(Y_test,yhat)"
   ]
  },
  {
   "cell_type": "markdown",
   "id": "156e66c3-0f4d-4053-b770-5dbe1d9fdf1c",
   "metadata": {},
   "source": [
    "**Model comaprison**"
   ]
  },
  {
   "cell_type": "code",
   "execution_count": 126,
   "id": "c281783c-4043-4afb-a4aa-2c83dbb19042",
   "metadata": {},
   "outputs": [
    {
     "data": {
      "image/png": "[encoded data removed]",
      "text/plain": [
       "<Figure size 640x480 with 1 Axes>"
      ]
     },
     "metadata": {},
     "output_type": "display_data"
    }
   ],
   "source": [
    "# OVerview\n",
    "plt.barh(methods, accuracy)\n",
    "plt.xlabel('Accuracy')\n",
    "plt.ylabel('Method')\n",
    "plt.show()"
   ]
  },
  {
   "cell_type": "code",
   "execution_count": null,
   "id": "89a75cb5-eef0-4228-8cd8-8387cf0daa56",
   "metadata": {},
   "outputs": [],
   "source": []
  }
 ],
 "metadata": {
  "kernelspec": {
   "display_name": "Python 3 (ipykernel)",
   "language": "python",
   "name": "python3"
  },
  "language_info": {
   "codemirror_mode": {
    "name": "ipython",
    "version": 3
   },
   "file_extension": ".py",
   "mimetype": "text/x-python",
   "name": "python",
   "nbconvert_exporter": "python",
   "pygments_lexer": "ipython3",
   "version": "3.9.13"
  }
 },
 "nbformat": 4,
 "nbformat_minor": 5
}
